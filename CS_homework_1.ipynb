{
 "cells": [
  {
   "cell_type": "markdown",
   "metadata": {
    "toc": true
   },
   "source": [
    "<h1>Table of Contents<span class=\"tocSkip\"></span></h1>\n",
    "<div class=\"toc\"><ul class=\"toc-item\"><li><span><a href=\"#Overview\" data-toc-modified-id=\"Overview-1\"><span class=\"toc-item-num\">1&nbsp;&nbsp;</span>Overview</a></span></li><li><span><a href=\"#Question-($\\star\\star$,-100-marks)\" data-toc-modified-id=\"Question-($\\star\\star$,-100-marks)-2\"><span class=\"toc-item-num\">2&nbsp;&nbsp;</span>Question ($\\star\\star$, 100 marks)</a></span></li></ul></div>"
   ]
  },
  {
   "cell_type": "markdown",
   "metadata": {
    "collapsed": true
   },
   "source": [
    "<b>\n",
    "\n",
    "<p>\n",
    "<center>\n",
    "<font size=\"5\">\n",
    "Homework for Computer Science Foundations (DATS 6450)\n",
    "</font>\n",
    "</center>\n",
    "</p>\n",
    "\n",
    "<p>\n",
    "<center>\n",
    "<font size=\"4\">\n",
    "Homework 1: Time ans Space Complexity\n",
    "</font>\n",
    "</center>\n",
    "</p>\n",
    "\n",
    "<p>\n",
    "<center>\n",
    "<font size=\"3\">\n",
    "Data Science, Columbian College of Arts & Sciences, George Washington University\n",
    "</font>\n",
    "</center>\n",
    "</p>\n",
    "\n",
    "<p>\n",
    "<center>\n",
    "<font size=\"3\">\n",
    "Author: Yuxiao Huang\n",
    "</font>\n",
    "</center>\n",
    "</p>\n",
    "\n",
    "</b>"
   ]
  },
  {
   "cell_type": "markdown",
   "metadata": {},
   "source": [
    "# Overview\n",
    "- For each question, complete the logic and code indicated by # Implement me\n",
    "    - the logic should summarize the main idea of your algorithm\n",
    "    - the code should\n",
    "        - be bug-free (while the output produced by your solution being the same as the provided output does not necessarily mean your code is bug-free, it is very likely that there is a bug in your code when the two kinds of output are different)\n",
    "        - satisfy the required time and space complexity\n",
    "        - be commented\n",
    "    - **marks will be deducted if the above requirements (for the logic and code) are not met**\n",
    "- Submit an ipynb file named homework_1.ipynb to [blackboard](https://blackboard.gwu.edu) folder /Assignments/Homework_1/"
   ]
  },
  {
   "cell_type": "markdown",
   "metadata": {},
   "source": [
    "# Question ($\\star\\star$, 100 marks)\n",
    "- Problem: \n",
    "    - find the number of ways to have $n$ (where $n \\geq 1$) 1 dollars in the jar\n",
    "    - you can assume each time you put either one 1 dollar or two 1 dollars in the jar\n",
    "    - for example, there are 3 ways to have three 1 dollars in the jar:\n",
    "        - put in one 1 dollar three times\n",
    "        - first put in one 1 dollar then two 1 dollars\n",
    "        - first put in two 1 dollars then one 1 dollar\n",
    "    - the solution should have the complexity below\n",
    "- Complexity: \n",
    "    - $O(n)$ time\n",
    "    - $O(1)$ space\n",
    "- **Logic: # Implement me (10 marks)**\n",
    "        Define f(n) as the number of ways to put n 1 dollars.\n",
    "        When n>=3, in order to get n 1 dollars, we can only \n",
    "        - either put one 1 dollar into a jar that already has n-1 1 dollars\n",
    "        - or put two 1 dollars into a jar that already has n-2 1 dollars.\n",
    "        So f(n)=f(n-1)+f(n-2)\n",
    "        Because f(1)=1; f(2)=2.\n",
    "        So we can calculate f(n) in this recursive way:\n",
    "        - f(3)=f(2)+f(1)\n",
    "        - f(4)=f(3)+f(2)\n",
    "        ...\n",
    "        - f(n)=f(n-1)+f(n-2)\n"
   ]
  },
  {
   "cell_type": "code",
   "execution_count": 9,
   "metadata": {},
   "outputs": [],
   "source": [
    "# Implementation\n",
    "def fun_2(n):\n",
    "    \"\"\"\n",
    "    Find the number of ways to have n (where n >= 1) 1 dollars in the jar\n",
    "    You can assume each time you put either one 1 dollar or two 1 dollars in the jar\n",
    "    \n",
    "    Parameters\n",
    "    ----------\n",
    "    n : an integer >= 1\n",
    "    \n",
    "    Returns\n",
    "    ----------\n",
    "    the number of ways : an integer\n",
    "    \"\"\"\n",
    "    \n",
    "    # Implement me (90 marks)\n",
    "    if n==1:\n",
    "        return 1\n",
    "    if n==2:\n",
    "        return 2 \n",
    "    if n>=3:\n",
    "        # set the initial value a=f(1) and b=f(2)\n",
    "        # keep a < b ,\n",
    "        a=1 \n",
    "        b=2\n",
    "        for i in range(3,n+1): # recursion (or addition) should run n-2 times\n",
    "            result=a+b   # a=f(i-2),b=f(i-1),result=f(i)\n",
    "            b,a=result,b  # after addition, current f(i) becomes the next recursion's f(i-1) \n",
    "                          #                 current f(i-1) becomes the next recursion's f(i-2)\n",
    "        \n",
    "        # when i==n, result=f(n) and the for loop stops\n",
    "        return result\n"
   ]
  },
  {
   "cell_type": "code",
   "execution_count": 10,
   "metadata": {},
   "outputs": [
    {
     "name": "stdout",
     "output_type": "stream",
     "text": [
      "1 1\n",
      "2 2\n",
      "3 3\n",
      "4 5\n",
      "5 8\n",
      "6 13\n",
      "7 21\n",
      "8 34\n",
      "9 55\n",
      "10 89\n",
      "11 144\n",
      "12 233\n",
      "13 377\n",
      "14 610\n",
      "15 987\n",
      "16 1597\n",
      "17 2584\n",
      "18 4181\n",
      "19 6765\n"
     ]
    }
   ],
   "source": [
    "# Test\n",
    "for i in range(1, 20):\n",
    "    print(i, fun_2(i))"
   ]
  },
  {
   "cell_type": "code",
   "execution_count": null,
   "metadata": {},
   "outputs": [],
   "source": []
  }
 ],
 "metadata": {
  "kernelspec": {
   "display_name": "Python 3",
   "language": "python",
   "name": "python3"
  },
  "language_info": {
   "codemirror_mode": {
    "name": "ipython",
    "version": 3
   },
   "file_extension": ".py",
   "mimetype": "text/x-python",
   "name": "python",
   "nbconvert_exporter": "python",
   "pygments_lexer": "ipython3",
   "version": "3.6.5"
  },
  "toc": {
   "base_numbering": 1,
   "nav_menu": {},
   "number_sections": true,
   "sideBar": true,
   "skip_h1_title": false,
   "title_cell": "Table of Contents",
   "title_sidebar": "Contents",
   "toc_cell": true,
   "toc_position": {},
   "toc_section_display": true,
   "toc_window_display": false
  }
 },
 "nbformat": 4,
 "nbformat_minor": 2
}
