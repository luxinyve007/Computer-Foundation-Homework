{
 "cells": [
  {
   "cell_type": "markdown",
   "metadata": {
    "toc": true
   },
   "source": [
    "<h1>Table of Contents<span class=\"tocSkip\"></span></h1>\n",
    "<div class=\"toc\"><ul class=\"toc-item\"><li><span><a href=\"#Overview\" data-toc-modified-id=\"Overview-1\"><span class=\"toc-item-num\">1&nbsp;&nbsp;</span>Overview</a></span></li><li><span><a href=\"#Time-ans-Space-Complexity\" data-toc-modified-id=\"Time-ans-Space-Complexity-2\"><span class=\"toc-item-num\">2&nbsp;&nbsp;</span>Time ans Space Complexity</a></span><ul class=\"toc-item\"><li><span><a href=\"#Question-($\\star\\star$,-25-marks)\" data-toc-modified-id=\"Question-($\\star\\star$,-25-marks)-2.1\"><span class=\"toc-item-num\">2.1&nbsp;&nbsp;</span>Question ($\\star\\star$, 25 marks)</a></span></li></ul></li><li><span><a href=\"#Array\" data-toc-modified-id=\"Array-3\"><span class=\"toc-item-num\">3&nbsp;&nbsp;</span>Array</a></span><ul class=\"toc-item\"><li><span><a href=\"#Question-($\\star$,-25-marks)\" data-toc-modified-id=\"Question-($\\star$,-25-marks)-3.1\"><span class=\"toc-item-num\">3.1&nbsp;&nbsp;</span>Question ($\\star$, 25 marks)</a></span></li></ul></li><li><span><a href=\"#Stack\" data-toc-modified-id=\"Stack-4\"><span class=\"toc-item-num\">4&nbsp;&nbsp;</span>Stack</a></span><ul class=\"toc-item\"><li><span><a href=\"#Question-($\\star\\star$,-25-marks)\" data-toc-modified-id=\"Question-($\\star\\star$,-25-marks)-4.1\"><span class=\"toc-item-num\">4.1&nbsp;&nbsp;</span>Question ($\\star\\star$, 25 marks)</a></span></li><li><span><a href=\"#Question-($\\star\\star$,-25-marks)\" data-toc-modified-id=\"Question-($\\star\\star$,-25-marks)-4.2\"><span class=\"toc-item-num\">4.2&nbsp;&nbsp;</span>Question ($\\star\\star$, 25 marks)</a></span></li></ul></li></ul></div>"
   ]
  },
  {
   "cell_type": "markdown",
   "metadata": {
    "collapsed": true
   },
   "source": [
    "<b>\n",
    "\n",
    "<p>\n",
    "<center>\n",
    "<font size=\"5\">\n",
    "Computer Science Foundations (DATS 6450)\n",
    "</font>\n",
    "</center>\n",
    "</p>\n",
    "\n",
    "<p>\n",
    "<center>\n",
    "<font size=\"4\">\n",
    "Midterm\n",
    "</font>\n",
    "</center>\n",
    "</p>\n",
    "\n",
    "<p>\n",
    "<center>\n",
    "<font size=\"3\">\n",
    "Data Science, Columbian College of Arts & Sciences, George Washington University\n",
    "</font>\n",
    "</center>\n",
    "</p>\n",
    "\n",
    "<p>\n",
    "<center>\n",
    "<font size=\"3\">\n",
    "Author: Yuxiao Huang\n",
    "</font>\n",
    "</center>\n",
    "</p>\n",
    "\n",
    "</b>"
   ]
  },
  {
   "cell_type": "markdown",
   "metadata": {},
   "source": [
    "# Overview\n",
    "- For each question, complete the logic and code indicated by # Implement me\n",
    "    - the logic should summarize the main idea of your algorithm\n",
    "    - the code should\n",
    "        - be bug-free (while the output produced by your solution being the same as the provided output does not necessarily mean your code is bug-free, it is very likely that there is a bug in your code when the two kinds of output are different)\n",
    "        - satisfy the required time and space complexity\n",
    "        - be commented\n",
    "    - **marks will be deducted if the above requirements (for the logic and code) are not met**\n",
    "- Submit an ipynb file named midterm.ipynb to [blackboard](https://blackboard.gwu.edu) folder /Tests/Midterm/"
   ]
  },
  {
   "cell_type": "markdown",
   "metadata": {},
   "source": [
    "# Time ans Space Complexity"
   ]
  },
  {
   "cell_type": "markdown",
   "metadata": {},
   "source": [
    "## Question ($\\star\\star$, 25 marks)\n",
    "- Problem: \n",
    "    - follow up on question 2 in Homework_1\n",
    "    - find the number of ways to have $n$ (where $n \\geq 1$) 1 dollars in the jar\n",
    "    - unlike in Homework_1 where you can assume that each time you only put either one 1 dollar or two 1 dollars in the jar, here you can **also** assume that each time you can **also** put three 1 dollars in the jar\n",
    "    - for example, there are four ways to have three 1 dollars in the jar:\n",
    "        - put in one 1 dollar three times\n",
    "        - first put in one 1 dollar then two 1 dollars\n",
    "        - first put in two 1 dollars then one 1 dollar\n",
    "        - put in three 1 dollars altogether\n",
    "    - the solution should have the complexity below\n",
    "- Complexity: \n",
    "    - $O(n)$ time\n",
    "    - $O(1)$ space\n",
    "- **Logic: # Implement me (5 marks)**\n",
    "Define f(n) as the number of ways to put n 1 dollars.\n",
    "        When n>=4, in order to get n 1 dollars, we can only \n",
    "        1. Put one 1 dollar into a jar that already has n-1 1 dollars\n",
    "        2. Put two 1 dollars into a jar that already has n-2 1 dollars\n",
    "        3. Put three 1 dollars into a jar that already has n-3 1 dollars\n",
    "        \n",
    "        So f(n)=f(n-1)+f(n-2)+f(n-3)\n",
    "        Because f(1)=1; f(2)=2; f(3)=4\n",
    "        So we can calculate f(n) in this recursive way:\n",
    "        - f(4)=f(3)+f(2)+f(1)\n",
    "        - f(5)=f(4)+f(3)+f(2)\n",
    "        ...\n",
    "        - f(n)=f(n-1)+f(n-2)+f(n-3)\n",
    "    "
   ]
  },
  {
   "cell_type": "code",
   "execution_count": 1,
   "metadata": {},
   "outputs": [],
   "source": [
    "# Implementation\n",
    "def fun_21(n):\n",
    "    \"\"\"\n",
    "    Find the number of ways to have n (where n >= 1) 1 dollars in the jar\n",
    "    You can assume each time you put either one 1 dollar, or two 1 dollars, or three 1 dollars in the jar\n",
    "    \n",
    "    Parameters\n",
    "    ----------\n",
    "    n : an integer >= 1\n",
    "    \n",
    "    Returns\n",
    "    ----------\n",
    "    the number of ways : an integer\n",
    "    \"\"\"\n",
    "    \n",
    "    # Implement me (20 marks)\n",
    "    if n==1:\n",
    "        return 1\n",
    "    if n==2:\n",
    "        return 2 \n",
    "    if n==3:\n",
    "        return 4\n",
    "    \n",
    "    if n >= 4:\n",
    "        # set the initial value a=f(1), b=f(2), c=f(3)\n",
    "        # keep a < b < c\n",
    "        a = 1 \n",
    "        b = 2\n",
    "        c = 4\n",
    "        for i in range(4,n+1): # recursion (or addition) should run n-3 times\n",
    "            result = a + b + c   # a=f(i-3),b=f(i-2), c=f(i-1), result=f(i)\n",
    "            c,b,a=result,c,b  # after addition, current f(i) becomes the next recursion's f(i-1) \n",
    "                                              # current f(i-1) becomes the next recursion's f(i-2)\n",
    "                                              # current f(i-2 becomes the next recursion's f(i-3)\n",
    "                \n",
    "        \n",
    "        # when i==n, result=f(n) and the for loop stops\n",
    "        return result\n",
    "    "
   ]
  },
  {
   "cell_type": "code",
   "execution_count": 2,
   "metadata": {
    "scrolled": true
   },
   "outputs": [
    {
     "name": "stdout",
     "output_type": "stream",
     "text": [
      "1 1\n",
      "2 2\n",
      "3 4\n",
      "4 7\n",
      "5 13\n",
      "6 24\n",
      "7 44\n",
      "8 81\n",
      "9 149\n",
      "10 274\n",
      "11 504\n",
      "12 927\n",
      "13 1705\n",
      "14 3136\n",
      "15 5768\n",
      "16 10609\n",
      "17 19513\n",
      "18 35890\n",
      "19 66012\n"
     ]
    }
   ],
   "source": [
    "# Test\n",
    "for i in range(1, 20):\n",
    "    print(i, fun_21(i))"
   ]
  },
  {
   "cell_type": "markdown",
   "metadata": {},
   "source": [
    "# Array"
   ]
  },
  {
   "cell_type": "markdown",
   "metadata": {},
   "source": [
    "## Question ($\\star$, 25 marks)\n",
    "- Problem: \n",
    "    - follow up on question 2.1 in Homework_2\n",
    "    - unlike in question 2.1 where you should find the first and second largest element in the array, here you should find the first and second smallest element in the array\n",
    "    - you may assume the array has at least two unique elements\n",
    "    - the solution has the complexity below\n",
    "- Complexity: \n",
    "    - $O(n)$ time\n",
    "    - $O(1)$ space\n",
    "- **Logic: # Implement me (5 marks)**\n",
    "Search from the beginning of the array to the end;\n",
    "Compare current number with the 1st smallest number and 2nd smallest number have been stored.\n",
    "Update the 1st and 2nd largest number."
   ]
  },
  {
   "cell_type": "code",
   "execution_count": 5,
   "metadata": {},
   "outputs": [],
   "source": [
    "# Implementation\n",
    "def fun_31(arr):\n",
    "    \"\"\"\n",
    "    Find the first and second smallest element in the array\n",
    "    You may assume the array has at least two unique elements\n",
    "    \n",
    "    Parameters\n",
    "    ----------\n",
    "    arr : a list of integers\n",
    "    \n",
    "    Returns\n",
    "    ----------\n",
    "    [the first smallest element, the second smallest element] : a list of two integers\n",
    "    \"\"\"\n",
    "    \n",
    "    # Implement me (20 marks)\n",
    "    smallest = min(arr[0], arr[1])  # store the first smallest number\n",
    "    smaller = max (arr[0], arr[1])  # store the second smallest number\n",
    "    \n",
    "    for i in range(2,len(arr)):\n",
    "        if arr[i] < smallest:\n",
    "            smallest, smaller = arr[i], smallest  #  arr[i] becomes the smallest, the formal largest becomes the second smallest\n",
    "        elif arr[i] < smaller:\n",
    "            smaller = arr[i]  #  arr[i] becomes the second smallest\n",
    "    \n",
    "    return [smallest, smaller]\n"
   ]
  },
  {
   "cell_type": "code",
   "execution_count": 6,
   "metadata": {},
   "outputs": [
    {
     "name": "stdout",
     "output_type": "stream",
     "text": [
      "[2, 3]\n",
      "[2, 3]\n",
      "[-4, 2]\n",
      "[-4, 2]\n"
     ]
    }
   ],
   "source": [
    "# Test\n",
    "arr_1 = [2, 3]\n",
    "arr_2 = [3, 2]\n",
    "arr_3 = [2, 3, 5, -4]\n",
    "arr_4 = [2, 3, 5, -4, 9, 10, 20, 11]\n",
    "\n",
    "print(fun_31(arr_1))\n",
    "print(fun_31(arr_2))\n",
    "print(fun_31(arr_3))\n",
    "print(fun_31(arr_4))"
   ]
  },
  {
   "cell_type": "markdown",
   "metadata": {},
   "source": [
    "# Stack"
   ]
  },
  {
   "cell_type": "markdown",
   "metadata": {
    "collapsed": true
   },
   "source": [
    "<a id='4.1'></a>"
   ]
  },
  {
   "cell_type": "markdown",
   "metadata": {},
   "source": [
    "## Question ($\\star\\star$, 25 marks)\n",
    "- Problem:\n",
    "    - follow up on example 4.3 in Chapter 2 of lecture note\n",
    "    - unlike in example 4.3 where you should check whether the parentheses in the input string are valid, here you should find the minimum number of parentheses that should be added to make the input string valid\n",
    "    - for example:\n",
    "        - if s = \"()\", then the solution should return 0, since no parenthesis needs to be added to make s valid\n",
    "        - if s = \"(\", then the solution should return 1, since one parenthesis (a right one) needs to be added to make s valid (s = \"()\")\n",
    "        - if s = \")(\", then the solution should return 2, since two parentheses (a left and a right) need to be added to make s valid (s = \"()()\")\n",
    "        - see more examples in the test cases\n",
    "    - the parentheses are valid if they are always in pairs and in correct order \n",
    "    - you may assume the string only includes '(' and ')'\n",
    "    - find the solution with the complexity below\n",
    "    - this question will be followed by\n",
    "        - [question 4.2](#4.2)\n",
    "- Complexity: \n",
    "    - $O(n)$ time\n",
    "    - $O(n)$ space\n",
    "- **Logic: # Implement me (5 marks)**\n",
    "Use a stack to store the unmatched '('. If a ')' comes and there is a '(' in the stack, then it is matched and poped out. If no '(' are in the stack, then the ')' is unmatched and need an additional '('. In the end, the remaining '(' in the stack are left unmatched and need additional ')' too.\n"
   ]
  },
  {
   "cell_type": "code",
   "execution_count": 21,
   "metadata": {},
   "outputs": [],
   "source": [
    "def fun_41(s):\n",
    "    \"\"\"\n",
    "    Find the minimum number of parentheses that should be added to make the input string valid\n",
    "    The parentheses are valid if they are always in pairs and in correct order \n",
    "    You may assume the string only includes '(' and ')'\n",
    "    \n",
    "    Parameters\n",
    "    ----------\n",
    "    s : a string\n",
    "    \n",
    "    Returns\n",
    "    ----------\n",
    "    the minimum number of parentheses that should be added : an integer\n",
    "    \"\"\"\n",
    "\n",
    "    # Implement me (20 marks)\n",
    "    stack = []\n",
    "    count = 0  # the minimum number of parentheses that should be added\n",
    "\n",
    "    for c in s:\n",
    "        if c == ')':\n",
    "            if (len(stack) == 0) or (stack[-1] == ')'):  # not match\n",
    "                count += 1\n",
    "            else:\n",
    "                stack.pop()  # pop the matched '('\n",
    "        \n",
    "        else:  # c == '('\n",
    "            stack.append(c)\n",
    "            \n",
    "    return count + len(stack)  #  the final stack should be empty, otherwise, some '(' are not matched and need additional ')'\n"
   ]
  },
  {
   "cell_type": "code",
   "execution_count": 22,
   "metadata": {
    "scrolled": true
   },
   "outputs": [
    {
     "name": "stdout",
     "output_type": "stream",
     "text": [
      "0\n",
      "1\n",
      "1\n",
      "2\n",
      "0\n",
      "4\n"
     ]
    }
   ],
   "source": [
    "# Test\n",
    "s_1 = \"()\"\n",
    "s_2 = \"(\"\n",
    "s_3 = \")\"\n",
    "s_4 = \")(\"\n",
    "s_5 = \"()()\"\n",
    "s_6 = \"))((\"\n",
    "\n",
    "print(fun_41(s_1))\n",
    "print(fun_41(s_2))\n",
    "print(fun_41(s_3))\n",
    "print(fun_41(s_4))\n",
    "print(fun_41(s_5))\n",
    "print(fun_41(s_6))"
   ]
  },
  {
   "cell_type": "markdown",
   "metadata": {
    "collapsed": true
   },
   "source": [
    "<a id='4.2'></a>"
   ]
  },
  {
   "cell_type": "markdown",
   "metadata": {},
   "source": [
    "## Question ($\\star\\star$, 25 marks)\n",
    "- Problem:\n",
    "    - follow up on [question 4.1](#4.1) (and exercise 4.4 in Chapter 2 of lecture note)\n",
    "    - find an improved solution with the complexity below\n",
    "- Complexity: \n",
    "    - $O(n)$ time\n",
    "    - $O(1)$ space\n",
    "- **Logic: # Implement me (5 marks)\n",
    "Imagine there is a virtual stack that stores the unmatched '('. 'Count' is the number of unmatched '(' in the stack. 'additional' is the number of additional parentheses needed. If a ')' comes and 'Count' is positive, then it is matched and the number of unmatched '(' in the stack should be minus 1. Otherwise, additional '(' is needed. In the end, the remaining '(' also need additional ')' to be matched."
   ]
  },
  {
   "cell_type": "code",
   "execution_count": 26,
   "metadata": {},
   "outputs": [],
   "source": [
    "def fun_42(s):\n",
    "    \"\"\"\n",
    "    Find the minimum number of parentheses that should be added to make the input string valid\n",
    "    The parentheses are valid if they are always in pairs and in correct order \n",
    "    You may assume the string only includes '(' and ')'\n",
    "    \n",
    "    Parameters\n",
    "    ----------\n",
    "    s : a string\n",
    "    \n",
    "    Returns\n",
    "    ----------\n",
    "    the minimum number of parentheses that should be added : an integer\n",
    "    \"\"\"\n",
    "\n",
    "    # Implement me (20 marks)\n",
    "    count = 0  # number of current unmatched '('\n",
    "    additional = 0  # number of additional parentheses needed\n",
    "    for cha in s:\n",
    "        if cha == ')':\n",
    "            if count <= 0 :  # currently there is no unmatched '('\n",
    "                additional += 1\n",
    "            else:  # count > 0, there is an unmatched '('\n",
    "                count -= 1\n",
    "        else:\n",
    "            count += 1\n",
    "            \n",
    "    return additional + count\n"
   ]
  },
  {
   "cell_type": "code",
   "execution_count": 27,
   "metadata": {
    "scrolled": true
   },
   "outputs": [
    {
     "name": "stdout",
     "output_type": "stream",
     "text": [
      "0\n",
      "1\n",
      "1\n",
      "2\n",
      "0\n",
      "4\n"
     ]
    }
   ],
   "source": [
    "# Test\n",
    "s_1 = \"()\"\n",
    "s_2 = \"(\"\n",
    "s_3 = \")\"\n",
    "s_4 = \")(\"\n",
    "s_5 = \"()()\"\n",
    "s_6 = \"))((\"\n",
    "\n",
    "print(fun_42(s_1))\n",
    "print(fun_42(s_2))\n",
    "print(fun_42(s_3))\n",
    "print(fun_42(s_4))\n",
    "print(fun_42(s_5))\n",
    "print(fun_42(s_6))"
   ]
  },
  {
   "cell_type": "code",
   "execution_count": null,
   "metadata": {},
   "outputs": [],
   "source": []
  }
 ],
 "metadata": {
  "kernelspec": {
   "display_name": "Python 3",
   "language": "python",
   "name": "python3"
  },
  "language_info": {
   "codemirror_mode": {
    "name": "ipython",
    "version": 3
   },
   "file_extension": ".py",
   "mimetype": "text/x-python",
   "name": "python",
   "nbconvert_exporter": "python",
   "pygments_lexer": "ipython3",
   "version": "3.6.5"
  },
  "toc": {
   "base_numbering": 1,
   "nav_menu": {},
   "number_sections": true,
   "sideBar": true,
   "skip_h1_title": false,
   "title_cell": "Table of Contents",
   "title_sidebar": "Contents",
   "toc_cell": true,
   "toc_position": {},
   "toc_section_display": true,
   "toc_window_display": false
  }
 },
 "nbformat": 4,
 "nbformat_minor": 2
}
