{
 "cells": [
  {
   "cell_type": "markdown",
   "metadata": {
    "toc": true
   },
   "source": [
    "<h1>Table of Contents<span class=\"tocSkip\"></span></h1>\n",
    "<div class=\"toc\"><ul class=\"toc-item\"><li><span><a href=\"#Overview\" data-toc-modified-id=\"Overview-1\"><span class=\"toc-item-num\">1&nbsp;&nbsp;</span>Overview</a></span></li><li><span><a href=\"#Quick-Sort-(100-marks)\" data-toc-modified-id=\"Quick-Sort-(100-marks)-2\"><span class=\"toc-item-num\">2&nbsp;&nbsp;</span>Quick Sort (100 marks)</a></span><ul class=\"toc-item\"><li><span><a href=\"#Question-($\\star$,-50-marks)\" data-toc-modified-id=\"Question-($\\star$,-50-marks)-2.1\"><span class=\"toc-item-num\">2.1&nbsp;&nbsp;</span>Question ($\\star$, 50 marks)</a></span></li><li><span><a href=\"#Question-($\\star$,-50-marks)\" data-toc-modified-id=\"Question-($\\star$,-50-marks)-2.2\"><span class=\"toc-item-num\">2.2&nbsp;&nbsp;</span>Question ($\\star$, 50 marks)</a></span></li></ul></li></ul></div>"
   ]
  },
  {
   "cell_type": "markdown",
   "metadata": {
    "collapsed": true
   },
   "source": [
    "<b>\n",
    "\n",
    "<p>\n",
    "<center>\n",
    "<font size=\"5\">\n",
    "Homework for Computer Science Foundations (DATS 6450)\n",
    "</font>\n",
    "</center>\n",
    "</p>\n",
    "\n",
    "<p>\n",
    "<center>\n",
    "<font size=\"4\">\n",
    "Homework 4: Sort\n",
    "</font>\n",
    "</center>\n",
    "</p>\n",
    "\n",
    "<p>\n",
    "<center>\n",
    "<font size=\"3\">\n",
    "Data Science, Columbian College of Arts & Sciences, George Washington University\n",
    "</font>\n",
    "</center>\n",
    "</p>\n",
    "\n",
    "<p>\n",
    "<center>\n",
    "<font size=\"3\">\n",
    "Author: Yuxiao Huang\n",
    "</font>\n",
    "</center>\n",
    "</p>\n",
    "\n",
    "</b>"
   ]
  },
  {
   "cell_type": "markdown",
   "metadata": {},
   "source": [
    "# Overview\n",
    "- For each question, complete the logic and code indicated by # Implement me\n",
    "    - the logic should summarize the main idea of your algorithm\n",
    "    - the code should\n",
    "        - be bug-free (while the output produced by your solution being the same as the provided output does not necessarily mean your code is bug-free, it is very likely that there is a bug in your code when the two kinds of output are different)\n",
    "        - satisfy the required time and space complexity\n",
    "        - be commented\n",
    "    - **marks will be deducted if the above requirements (for the logic and code) are not met**\n",
    "- Submit an ipynb file named Homework_4.ipynb to [blackboard](https://blackboard.gwu.edu) folder /Assignments/Homework_4/"
   ]
  },
  {
   "cell_type": "markdown",
   "metadata": {},
   "source": [
    "# Quick Sort (100 marks)\n",
    "This section includes two questions."
   ]
  },
  {
   "cell_type": "markdown",
   "metadata": {
    "collapsed": true
   },
   "source": [
    "<a id='2.1'></a>"
   ]
  },
  {
   "cell_type": "markdown",
   "metadata": {},
   "source": [
    "## Question ($\\star$, 50 marks)\n",
    "- Problem:\n",
    "    - follow up on exercises 7.2 and 7.4 in chapter 4 of lecture note\n",
    "    - unlike in the two exercises where we used the last and median element (of the input array) as the pivot, here we use the first element as the pivot\n",
    "    - find the solution with the complexity below\n",
    "    - this question will be followed by [Question 2.2](#2.2)\n",
    "- Complexity:\n",
    "    - $O(n^2)$ time\n",
    "    - $O(n)$ space\n",
    "- **Logic: # Implement me (5 marks)**\n",
    "Use a pivot number and the partition function to seperate the arr into two part. Use sort function to recursively sort the left part and right part of the array.\n"
   ]
  },
  {
   "cell_type": "code",
   "execution_count": 18,
   "metadata": {},
   "outputs": [],
   "source": [
    "def quick_sort_first(arr, left, right):\n",
    "    \"\"\"\n",
    "    Quick sort (using the first element of the input array as the pivot)\n",
    "    \n",
    "    Parameters\n",
    "    ----------\n",
    "    arr : a list of number\n",
    "    left : the starting index of the list\n",
    "    right : the ending index of the list\n",
    "\n",
    "    Returns\n",
    "    ----------\n",
    "    The list sorted in ascending order\n",
    "    \"\"\"\n",
    "\n",
    "    # Implement me\n",
    "    arr_ = list(arr)\n",
    "    \n",
    "    if left < right:    \n",
    "        pivot = partition_first(arr_, left, right)\n",
    "        arr_ = quick_sort_first(arr_, pivot+1,  right)\n",
    "        arr = quick_sort_first(arr_, left, pivot-1)\n",
    "        \n",
    "    return arr_\n",
    "        \n"
   ]
  },
  {
   "cell_type": "code",
   "execution_count": 19,
   "metadata": {},
   "outputs": [],
   "source": [
    "def partition_first(arr, left, right):\n",
    "    \"\"\"\n",
    "    Partition (using the first element of the input array as the pivot)\n",
    "    All the number no larger than the pivot will be on the left-hand side of the pivot\n",
    "    All the number larger than the pivot will be on the right-hand side of the pivot \n",
    "    \n",
    "    Parameters\n",
    "    ----------\n",
    "    arr : a list of number\n",
    "    left : the starting index of the list\n",
    "    right : the ending index of the list\n",
    "\n",
    "    Returns\n",
    "    ----------\n",
    "    The index of the pivot\n",
    "    \"\"\"\n",
    "    \n",
    "    # Implement me\n",
    "    pivot = arr[left]\n",
    "    \n",
    "    i = left\n",
    "    for j in range(left+1, right+1):  ## comparision strats from the next right number of the pivot\n",
    "        if arr[j]<= pivot:\n",
    "            i += 1\n",
    "            arr[j], arr[i] = arr[i], arr[j]\n",
    "            \n",
    "    \n",
    "    arr[i], arr[left] = arr[left], arr[i]\n",
    "    \n",
    "    return i\n"
   ]
  },
  {
   "cell_type": "code",
   "execution_count": 20,
   "metadata": {
    "scrolled": true
   },
   "outputs": [
    {
     "name": "stdout",
     "output_type": "stream",
     "text": [
      "[]\n",
      "[3]\n",
      "[2, 3]\n",
      "[1, 2, 3, 4]\n"
     ]
    }
   ],
   "source": [
    "# Test\n",
    "arr_1 = []\n",
    "arr_2 = [3]\n",
    "arr_3 = [3, 2]\n",
    "arr_4 = [3, 2, 1, 4]\n",
    "\n",
    "print(quick_sort_first(arr_1, 0, len(arr_1) - 1))\n",
    "print(quick_sort_first(arr_2, 0, len(arr_2) - 1))\n",
    "print(quick_sort_first(arr_3, 0, len(arr_3) - 1))\n",
    "print(quick_sort_first(arr_4, 0, len(arr_4) - 1))"
   ]
  },
  {
   "cell_type": "markdown",
   "metadata": {
    "collapsed": true
   },
   "source": [
    "<a id='2.2'></a>"
   ]
  },
  {
   "cell_type": "markdown",
   "metadata": {},
   "source": [
    "## Question ($\\star$, 50 marks)\n",
    "- Problem: \n",
    "    - follow up on [Question 2.1](#2.1)\n",
    "    - unlike in [Question 2.1](#2.1) where we used the first element (of the input array) as the pivot, here we use a random element as the pivot\n",
    "    - find the solution with the complexity below\n",
    "- Complexity:\n",
    "    - $O(n^2)$ time\n",
    "    - $O(n)$ space\n",
    "- **Logic: # Implement me (5 marks)**\n",
    "Exchange the random number with the first number and use the above method."
   ]
  },
  {
   "cell_type": "code",
   "execution_count": 21,
   "metadata": {},
   "outputs": [],
   "source": [
    "def quick_sort_random(arr, left, right):\n",
    "    \"\"\"\n",
    "    Quick sort (using a random element of the input array as the pivot)\n",
    "    \n",
    "    Parameters\n",
    "    ----------\n",
    "    arr : a list of number\n",
    "    left : the starting index of the list\n",
    "    right : the ending index of the list\n",
    "\n",
    "    Returns\n",
    "    ----------\n",
    "    The list sorted in ascending order\n",
    "    \"\"\"\n",
    "\n",
    "    # Implement me\n",
    "    arr_ = list(arr)\n",
    "    \n",
    "    if left < right:    \n",
    "        pivot = partition_first(arr_, left, right)\n",
    "        arr_ = quick_sort_first(arr_, pivot+1,  right)\n",
    "        arr = quick_sort_first(arr_, left, pivot-1)\n",
    "        \n",
    "    return arr_"
   ]
  },
  {
   "cell_type": "code",
   "execution_count": 22,
   "metadata": {},
   "outputs": [],
   "source": [
    "import numpy as np\n",
    "\n",
    "def partition_random(arr, left, right):\n",
    "    \"\"\"\n",
    "    Partition (using a random element of the input array as the pivot)\n",
    "    All the number no larger than the pivot will be on the left-hand side of the pivot\n",
    "    All the number larger than the pivot will be on the right-hand side of the pivot \n",
    "    \n",
    "    Parameters\n",
    "    ----------\n",
    "    arr : a list of number\n",
    "    left : the starting index of the list\n",
    "    right : the ending index of the list\n",
    "\n",
    "    Returns\n",
    "    ----------\n",
    "    The index of the pivot\n",
    "    \"\"\"\n",
    "    \n",
    "    # Set the random seed\n",
    "    np.random.seed(0)\n",
    "    # Pick the random element\n",
    "    rand = np.random.randint(low=left, high=right + 1)\n",
    "    \n",
    "    # Implement me\n",
    "    pivot = arr[rand]   \n",
    "    i = left\n",
    "    arr[rand], arr[i] = arr[i], arr[rand]  ## move the random number to the first position so that we can directly use the previous method\n",
    "    \n",
    "    for j in range(left+1, right+1):  \n",
    "        if arr[j]<= pivot:\n",
    "            i += 1\n",
    "            arr[j], arr[i] = arr[i], arr[j]\n",
    "            \n",
    "    \n",
    "    arr[i], arr[left] = arr[left], arr[i]\n",
    "    \n",
    "    return i\n",
    "    \n"
   ]
  },
  {
   "cell_type": "code",
   "execution_count": 23,
   "metadata": {
    "scrolled": true
   },
   "outputs": [
    {
     "name": "stdout",
     "output_type": "stream",
     "text": [
      "[]\n",
      "[3]\n",
      "[2, 3]\n",
      "[1, 2, 3, 4]\n"
     ]
    }
   ],
   "source": [
    "# Test\n",
    "arr_1 = []\n",
    "arr_2 = [3]\n",
    "arr_3 = [3, 2]\n",
    "arr_4 = [3, 2, 1, 4]\n",
    "\n",
    "print(quick_sort_random(arr_1, 0, len(arr_1) - 1))\n",
    "print(quick_sort_random(arr_2, 0, len(arr_2) - 1))\n",
    "print(quick_sort_random(arr_3, 0, len(arr_3) - 1))\n",
    "print(quick_sort_random(arr_4, 0, len(arr_4) - 1))"
   ]
  },
  {
   "cell_type": "code",
   "execution_count": null,
   "metadata": {},
   "outputs": [],
   "source": []
  }
 ],
 "metadata": {
  "kernelspec": {
   "display_name": "Python 3",
   "language": "python",
   "name": "python3"
  },
  "language_info": {
   "codemirror_mode": {
    "name": "ipython",
    "version": 3
   },
   "file_extension": ".py",
   "mimetype": "text/x-python",
   "name": "python",
   "nbconvert_exporter": "python",
   "pygments_lexer": "ipython3",
   "version": "3.6.5"
  },
  "toc": {
   "base_numbering": 1,
   "nav_menu": {},
   "number_sections": true,
   "sideBar": true,
   "skip_h1_title": false,
   "title_cell": "Table of Contents",
   "title_sidebar": "Contents",
   "toc_cell": true,
   "toc_position": {},
   "toc_section_display": true,
   "toc_window_display": false
  }
 },
 "nbformat": 4,
 "nbformat_minor": 2
}
