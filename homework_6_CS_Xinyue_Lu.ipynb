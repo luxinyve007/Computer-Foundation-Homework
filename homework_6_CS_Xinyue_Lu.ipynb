{
 "cells": [
  {
   "cell_type": "markdown",
   "metadata": {
    "toc": true
   },
   "source": [
    "<h1>Table of Contents<span class=\"tocSkip\"></span></h1>\n",
    "<div class=\"toc\"><ul class=\"toc-item\"><li><span><a href=\"#Overview\" data-toc-modified-id=\"Overview-1\"><span class=\"toc-item-num\">1&nbsp;&nbsp;</span>Overview</a></span></li><li><span><a href=\"#Dynamic-Programming-(100-marks)\" data-toc-modified-id=\"Dynamic-Programming-(100-marks)-2\"><span class=\"toc-item-num\">2&nbsp;&nbsp;</span>Dynamic Programming (100 marks)</a></span><ul class=\"toc-item\"><li><span><a href=\"#Question-($\\star\\star$,-30-marks)\" data-toc-modified-id=\"Question-($\\star\\star$,-30-marks)-2.1\"><span class=\"toc-item-num\">2.1&nbsp;&nbsp;</span>Question ($\\star\\star$, 30 marks)</a></span></li><li><span><a href=\"#Question-($\\star\\star\\star$,-70-marks)\" data-toc-modified-id=\"Question-($\\star\\star\\star$,-70-marks)-2.2\"><span class=\"toc-item-num\">2.2&nbsp;&nbsp;</span>Question ($\\star\\star\\star$, 70 marks)</a></span></li></ul></li></ul></div>"
   ]
  },
  {
   "cell_type": "markdown",
   "metadata": {
    "collapsed": true
   },
   "source": [
    "<b>\n",
    "\n",
    "<p>\n",
    "<center>\n",
    "<font size=\"5\">\n",
    "Homework for Computer Science Foundations (DATS 6450)\n",
    "</font>\n",
    "</center>\n",
    "</p>\n",
    "\n",
    "<p>\n",
    "<center>\n",
    "<font size=\"4\">\n",
    "Homework 6: Dynamic Programming\n",
    "</font>\n",
    "</center>\n",
    "</p>\n",
    "\n",
    "<p>\n",
    "<center>\n",
    "<font size=\"3\">\n",
    "Data Science, Columbian College of Arts & Sciences, George Washington University\n",
    "</font>\n",
    "</center>\n",
    "</p>\n",
    "\n",
    "<p>\n",
    "<center>\n",
    "<font size=\"3\">\n",
    "Author: Yuxiao Huang\n",
    "</font>\n",
    "</center>\n",
    "</p>\n",
    "\n",
    "</b>"
   ]
  },
  {
   "cell_type": "markdown",
   "metadata": {},
   "source": [
    "# Overview\n",
    "- For each question, complete the logic and code indicated by # Implement me\n",
    "    - the logic should summarize the main idea of your algorithm\n",
    "    - the code should\n",
    "        - be bug-free (while the output produced by your solution being the same as the provided output does not necessarily mean your code is bug-free, it is very likely that there is a bug in your code when the two kinds of output are different)\n",
    "        - satisfy the required time and space complexity\n",
    "        - be commented\n",
    "    - **marks will be deducted if the above requirements (for the logic and code) are not met**\n",
    "- Submit an ipynb file named Homework_6.ipynb to [blackboard](https://blackboard.gwu.edu) folder /Assignments/Homework_6/"
   ]
  },
  {
   "cell_type": "markdown",
   "metadata": {},
   "source": [
    "# Dynamic Programming (100 marks)\n",
    "This section includes two questions."
   ]
  },
  {
   "cell_type": "markdown",
   "metadata": {
    "collapsed": true
   },
   "source": [
    "<a id='2.1'></a>"
   ]
  },
  {
   "cell_type": "markdown",
   "metadata": {},
   "source": [
    "## Question ($\\star\\star$, 30 marks)\n",
    "- Problem:\n",
    "    - follow up on exercises 4.7 to 4.9 in Chapter 6 of lecture note\n",
    "    - unlike in the above exercises where the mice can either go to the right or go down, here it can also move diagonally to the southeast\n",
    "    - in other words, if the mice is currently at entry $[i, j]$, then next time it can move to one of the following three entries\n",
    "        - $[i, j + 1]$ (i.e., right)\n",
    "        - $[i + 1, j]$ (i.e., down)\n",
    "        - $[i + 1, j + 1]$ (i.e., southeast)\n",
    "    - see examples in the test cases\n",
    "    - find the solution with the complexity below\n",
    "    - this question will be followed by\n",
    "        - [question 2.2](#2.2)\n",
    "- Complexity:\n",
    "    - $O(m \\times n)$ time\n",
    "    - $O(m \\times n)$ space\n",
    "- **Logic: # Implement me (5 marks)**\n",
    "The number of ways to go to one point is sum of the number of ways to go to its upper point, the number of ways to go to its left point, and the number of ways to go to its upper left point."
   ]
  },
  {
   "cell_type": "code",
   "execution_count": 32,
   "metadata": {},
   "outputs": [],
   "source": [
    "# Implementation\n",
    "def fun_21(m, n):\n",
    "    \"\"\"\n",
    "    Find the number of ways to reach the exit of a maze (represented by a m * n matrix)\n",
    "    \n",
    "    Parameters\n",
    "    ----------\n",
    "    matrix : a matrix of integers\n",
    "    m : the number of rows in the matrix\n",
    "    n : the number of columns in the ma\n",
    "    \n",
    "    Returns\n",
    "    ----------\n",
    "    The number of ways : an integer\n",
    "    \"\"\"\n",
    "    \n",
    "    # Implement me (25 marks)\n",
    "    # coner cases\n",
    "    if min(m,n) <= 0:\n",
    "        return 0\n",
    "    if min(m,n) == 1:\n",
    "        return 1\n",
    "    \n",
    "    cost = [[1 for _ in range(n)] for _ in range(m)]\n",
    "    \n",
    "    for i in range(1,n):\n",
    "        for j in range(1,m):\n",
    "            cost[j][i] = cost[j-1][i] + cost[j][i-1] + cost[j-1][i-1] # add left number, upper number and upper left number together\n",
    "    \n",
    "    return cost[-1][-1]"
   ]
  },
  {
   "cell_type": "code",
   "execution_count": 33,
   "metadata": {
    "scrolled": true
   },
   "outputs": [
    {
     "name": "stdout",
     "output_type": "stream",
     "text": [
      "Input  1: m = 4 n = 5\n",
      "Output 1: 129\n",
      "\n",
      "Input  2: m = 0 n = 3\n",
      "Output 2: 0\n",
      "\n",
      "Input  3: m = 3 n = 3\n",
      "Output 3: 13\n",
      "\n",
      "Input  4: m = 1 n = 3\n",
      "Output 4: 1\n",
      "\n",
      "Input  5: m = 5 n = 2\n",
      "Output 5: 9\n",
      "\n",
      "Input  6: m = 4 n = 0\n",
      "Output 6: 0\n",
      "\n",
      "Input  7: m = 0 n = 4\n",
      "Output 7: 0\n",
      "\n",
      "Input  8: m = 2 n = 1\n",
      "Output 8: 1\n",
      "\n",
      "Input  9: m = 0 n = 1\n",
      "Output 9: 0\n",
      "\n",
      "Input  10: m = 5 n = 1\n",
      "Output 10: 1\n",
      "\n"
     ]
    }
   ],
   "source": [
    "# Test\n",
    "import numpy as np\n",
    "np.random.seed(0)\n",
    "\n",
    "for i in range(10):\n",
    "    m, n = np.random.randint(low=0, high=6, size=2)\n",
    "    print('Input  ' + str(i + 1) + ':', 'm = ' + str(m), 'n = ' + str(n))\n",
    "    print('Output ' + str(i + 1) + ':', fun_21(m, n), end='\\n\\n')"
   ]
  },
  {
   "cell_type": "markdown",
   "metadata": {
    "collapsed": true
   },
   "source": [
    "<a id='2.2'></a>"
   ]
  },
  {
   "cell_type": "markdown",
   "metadata": {},
   "source": [
    "## Question ($\\star\\star\\star$, 70 marks)\n",
    "- Problem:\n",
    "    - follow up on [question 2.1](#2.1)\n",
    "    - find the solution with the complexity below\n",
    "- Complexity:\n",
    "    - $O(m \\times n)$ time\n",
    "    - $O(max(m, n))$ space\n",
    "- **Logic: # Implement me (5 marks)**\n",
    "Use a backup list to help add the number of ways to the upper left point."
   ]
  },
  {
   "cell_type": "code",
   "execution_count": 36,
   "metadata": {},
   "outputs": [],
   "source": [
    "# Implementation\n",
    "def fun_22(m, n):\n",
    "    \"\"\"\n",
    "    Find the number of ways to reach the exit of a maze (represented by a m * n matrix)\n",
    "    \n",
    "    Parameters\n",
    "    ----------\n",
    "    matrix : a matrix of integers\n",
    "    m : the number of rows in the matrix\n",
    "    n : the number of columns in the ma\n",
    "    \n",
    "    Returns\n",
    "    ----------\n",
    "    The number of ways : an integer\n",
    "    \"\"\"\n",
    "    \n",
    "    # Implement me (65 marks)\n",
    "    if min(m,n) <= 0:\n",
    "        return 0\n",
    "    if min(m,n) == 1:\n",
    "        return 1\n",
    "    \n",
    "    cost = [1 for _ in range(n)]\n",
    "    backup = [1 for _ in range(n)]\n",
    "    \n",
    "    for _ in range(1,m):\n",
    "        for i in range(1,n):\n",
    "            cost[i] = cost[i] + cost[i-1] + backup[i-1] # backup [i-1] is the number of ways to the upper left point\n",
    "        backup = cost[:]\n",
    "    return cost[-1]\n"
   ]
  },
  {
   "cell_type": "code",
   "execution_count": 37,
   "metadata": {
    "scrolled": true
   },
   "outputs": [
    {
     "name": "stdout",
     "output_type": "stream",
     "text": [
      "Input  1: m = 4 n = 5\n",
      "Output 1: 129\n",
      "\n",
      "Input  2: m = 0 n = 3\n",
      "Output 2: 0\n",
      "\n",
      "Input  3: m = 3 n = 3\n",
      "Output 3: 13\n",
      "\n",
      "Input  4: m = 1 n = 3\n",
      "Output 4: 1\n",
      "\n",
      "Input  5: m = 5 n = 2\n",
      "Output 5: 9\n",
      "\n",
      "Input  6: m = 4 n = 0\n",
      "Output 6: 0\n",
      "\n",
      "Input  7: m = 0 n = 4\n",
      "Output 7: 0\n",
      "\n",
      "Input  8: m = 2 n = 1\n",
      "Output 8: 1\n",
      "\n",
      "Input  9: m = 0 n = 1\n",
      "Output 9: 0\n",
      "\n",
      "Input  10: m = 5 n = 1\n",
      "Output 10: 1\n",
      "\n"
     ]
    }
   ],
   "source": [
    "# Test\n",
    "np.random.seed(0)\n",
    "\n",
    "for i in range(10):\n",
    "    m, n = np.random.randint(low=0, high=6, size=2)\n",
    "    print('Input  ' + str(i + 1) + ':', 'm = ' + str(m), 'n = ' + str(n))\n",
    "    print('Output ' + str(i + 1) + ':', fun_22(m, n), end='\\n\\n')"
   ]
  }
 ],
 "metadata": {
  "kernelspec": {
   "display_name": "Python 3",
   "language": "python",
   "name": "python3"
  },
  "language_info": {
   "codemirror_mode": {
    "name": "ipython",
    "version": 3
   },
   "file_extension": ".py",
   "mimetype": "text/x-python",
   "name": "python",
   "nbconvert_exporter": "python",
   "pygments_lexer": "ipython3",
   "version": "3.7.4"
  },
  "toc": {
   "base_numbering": 1,
   "nav_menu": {},
   "number_sections": true,
   "sideBar": true,
   "skip_h1_title": false,
   "title_cell": "Table of Contents",
   "title_sidebar": "Contents",
   "toc_cell": true,
   "toc_position": {},
   "toc_section_display": true,
   "toc_window_display": false
  }
 },
 "nbformat": 4,
 "nbformat_minor": 2
}
