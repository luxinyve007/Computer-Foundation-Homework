{
 "cells": [
  {
   "cell_type": "markdown",
   "metadata": {
    "toc": true
   },
   "source": [
    "<h1>Table of Contents<span class=\"tocSkip\"></span></h1>\n",
    "<div class=\"toc\"><ul class=\"toc-item\"><li><span><a href=\"#Overview\" data-toc-modified-id=\"Overview-1\"><span class=\"toc-item-num\">1&nbsp;&nbsp;</span>Overview</a></span></li><li><span><a href=\"#Stack-(20-marks)\" data-toc-modified-id=\"Stack-(20-marks)-2\"><span class=\"toc-item-num\">2&nbsp;&nbsp;</span>Stack (20 marks)</a></span><ul class=\"toc-item\"><li><span><a href=\"#Question-($\\star\\star$,-20-marks)\" data-toc-modified-id=\"Question-($\\star\\star$,-20-marks)-2.1\"><span class=\"toc-item-num\">2.1&nbsp;&nbsp;</span>Question ($\\star\\star$, 20 marks)</a></span></li></ul></li><li><span><a href=\"#Array-(30-marks)\" data-toc-modified-id=\"Array-(30-marks)-3\"><span class=\"toc-item-num\">3&nbsp;&nbsp;</span>Array (30 marks)</a></span><ul class=\"toc-item\"><li><span><a href=\"#Question-($\\star\\star\\star$,-30-marks)\" data-toc-modified-id=\"Question-($\\star\\star\\star$,-30-marks)-3.1\"><span class=\"toc-item-num\">3.1&nbsp;&nbsp;</span>Question ($\\star\\star\\star$, 30 marks)</a></span></li></ul></li><li><span><a href=\"#Binary-Search-(50-marks)\" data-toc-modified-id=\"Binary-Search-(50-marks)-4\"><span class=\"toc-item-num\">4&nbsp;&nbsp;</span>Binary Search (50 marks)</a></span><ul class=\"toc-item\"><li><span><a href=\"#Question-($\\star$,-10-marks)\" data-toc-modified-id=\"Question-($\\star$,-10-marks)-4.1\"><span class=\"toc-item-num\">4.1&nbsp;&nbsp;</span>Question ($\\star$, 10 marks)</a></span></li><li><span><a href=\"#Question-($\\star\\star$,-40-marks)\" data-toc-modified-id=\"Question-($\\star\\star$,-40-marks)-4.2\"><span class=\"toc-item-num\">4.2&nbsp;&nbsp;</span>Question ($\\star\\star$, 40 marks)</a></span></li></ul></li></ul></div>"
   ]
  },
  {
   "cell_type": "markdown",
   "metadata": {
    "collapsed": true
   },
   "source": [
    "<b>\n",
    "\n",
    "<p>\n",
    "<center>\n",
    "<font size=\"5\">\n",
    "Homework for Computer Science Foundations (DATS 6450)\n",
    "</font>\n",
    "</center>\n",
    "</p>\n",
    "\n",
    "<p>\n",
    "<center>\n",
    "<font size=\"4\">\n",
    "Homework 3: Stack, Array and Binary Search\n",
    "</font>\n",
    "</center>\n",
    "</p>\n",
    "\n",
    "<p>\n",
    "<center>\n",
    "<font size=\"3\">\n",
    "Data Science, Columbian College of Arts & Sciences, George Washington University\n",
    "</font>\n",
    "</center>\n",
    "</p>\n",
    "\n",
    "<p>\n",
    "<center>\n",
    "<font size=\"3\">\n",
    "Author: Yuxiao Huang\n",
    "</font>\n",
    "</center>\n",
    "</p>\n",
    "\n",
    "</b>"
   ]
  },
  {
   "cell_type": "markdown",
   "metadata": {},
   "source": [
    "# Overview\n",
    "- For each question, complete the logic and code indicated by # Implement me\n",
    "    - the logic should summarize the main idea of your algorithm\n",
    "    - the code should\n",
    "        - be bug-free (while the output produced by your solution being the same as the provided output does not necessarily mean your code is bug-free, it is very likely that there is a bug in your code when the two kinds of output are different)\n",
    "        - satisfy the required time and space complexity\n",
    "        - be commented\n",
    "    - **marks will be deducted if the above requirements (for the logic and code) are not met**\n",
    "- Submit an ipynb file named Homework_3.ipynb to [blackboard](https://blackboard.gwu.edu) folder /Assignments/Homework_3/"
   ]
  },
  {
   "cell_type": "markdown",
   "metadata": {},
   "source": [
    "# Stack (20 marks)"
   ]
  },
  {
   "cell_type": "markdown",
   "metadata": {
    "collapsed": true
   },
   "source": [
    "<a id='2.1'></a>"
   ]
  },
  {
   "cell_type": "markdown",
   "metadata": {},
   "source": [
    "## Question ($\\star\\star$, 20 marks)\n",
    "- Problem: \n",
    "    - find whether two lists of integers, list1 and list2, are equal\n",
    "    - here list2 only has nonnegative integers whereas list1 may also have negative integers\n",
    "    - particularly\n",
    "        - the negative number, say -n, in list1 means that this negative number and the n nonnegative numbers prior to it should be (hypothetically) removed from list1 during the comparison\n",
    "        - for example, if list1 = [2, 3, -1] and list2 = [2], the function should return True because based on the discussion above, in essence list1 = [2] (since 3 and -1 should be hypothetically removed from list1)\n",
    "        - another example, if list1 = [2, 3, 4, -1, 5, -2] and list2 = [2], the function still should return True, because in essence list1 = [2] (since 5 and 4 should be hypothetically removed due to -2, and 3 should be hypothetically removed due to -1)\n",
    "        - it is worth noting that, the function should return False if for negative number, say -n, there are fewer than n nonnegative numbers prior to it in list1\n",
    "        - for example, if list1 = [-1], the function should return False no matter what list2 is\n",
    "        - see the test cases for more examples\n",
    "    - find a solution with the complexity below\n",
    "- Complexity: \n",
    "    - $O(n)$ time\n",
    "    - $O(n)$ space\n",
    "- **Logic: # Implement me (5 marks)**\n",
    "\n",
    "Delete the numbers in list1 according to the rules and save the remaining positive numbers in a new list. Finally compare if the new list is equal to list2. And acctually, starting from the left is equal to strating from the right. In the worst case space complexity is O(n)\n"
   ]
  },
  {
   "cell_type": "code",
   "execution_count": 63,
   "metadata": {},
   "outputs": [],
   "source": [
    "# Implementation\n",
    "def fun_21(list1, list2):\n",
    "    \"\"\"\n",
    "    Find whether two lists of integers, list1 and list2, are equal\n",
    "    \n",
    "    Parameters\n",
    "    ----------\n",
    "    list1 : one list of integers\n",
    "    list2 : another list of integers\n",
    "    \n",
    "    Returns\n",
    "    ----------\n",
    "    True, if the two lists are equal\n",
    "    False, otherwise\n",
    "    \"\"\"\n",
    "    \n",
    "    # Implement me (15 marks)    \n",
    "    \n",
    "    list1_new = []  ## to save the positive numbers in list1\n",
    "    \n",
    "    for i in list1:\n",
    "        if i > 0:\n",
    "            list1_new.append(i)  ## append positive numbers\n",
    "        else:\n",
    "            if len(list1_new) < -i:  ## if positive numbers are not enough for deletion\n",
    "                return False\n",
    "            pop = -i  ## the number of numbers should be deleted\n",
    "            while pop > 0:\n",
    "                list1_new.pop()\n",
    "                pop -= 1\n",
    "    \n",
    "    return list1_new == list2"
   ]
  },
  {
   "cell_type": "code",
   "execution_count": 64,
   "metadata": {
    "scrolled": true
   },
   "outputs": [
    {
     "name": "stdout",
     "output_type": "stream",
     "text": [
      "True\n",
      "True\n",
      "True\n",
      "False\n",
      "False\n",
      "True\n",
      "False\n"
     ]
    }
   ],
   "source": [
    "# Test\n",
    "print(fun_21([], []))\n",
    "print(fun_21([2, 3, -1], [2]))\n",
    "print(fun_21([2, 3, 4, -1, 5, -2], [2]))\n",
    "print(fun_21([-1], []))\n",
    "print(fun_21([1, 2, 3, 4, -2, 5, 6, -1], [2, 5]))\n",
    "print(fun_21([1, -1, 1], [1]))\n",
    "print(fun_21([2, 3, -100], [2]))"
   ]
  },
  {
   "cell_type": "markdown",
   "metadata": {},
   "source": [
    "# Array (30 marks)"
   ]
  },
  {
   "cell_type": "markdown",
   "metadata": {},
   "source": [
    "## Question ($\\star\\star\\star$, 30 marks)\n",
    "- Problem: \n",
    "    - follow up on [Question 2.1](#2.1)\n",
    "    - find a solution with the complexity below\n",
    "    - it is worth noting that, you cannot change list1 or list2 in any way (e.g., pop or append) in the function, otherwise marks will be deducted\n",
    "- Complexity: \n",
    "    - $O(n)$ time\n",
    "    - $O(1)$ space\n",
    "- **Logic: # Implement me (5 marks)**\n",
    "\n",
    "Compare the numbers in list1 and list2 from the right using two pointers as indicators. Move the pointer1 to left if some numbers should be deleted.Use a variable to record how many numbers need to be deleted.If all the numbers should be deleted in list1 are deleted and all the rest numbers are compared and equal in list1 and list2, then the two list are equal.   \n"
   ]
  },
  {
   "cell_type": "code",
   "execution_count": 65,
   "metadata": {},
   "outputs": [],
   "source": [
    "# Implementation\n",
    "def fun_31(list1, list2):\n",
    "    \"\"\"\n",
    "    Find whether two lists of integers, list1 and list2, are equal\n",
    "    \n",
    "    Parameters\n",
    "    ----------\n",
    "    list1 : one list of integers\n",
    "    list2 : another list of integers\n",
    "    \n",
    "    Returns\n",
    "    ----------\n",
    "    True, if the two lists are equal\n",
    "    False, otherwise\n",
    "    \"\"\"\n",
    "    \n",
    "    # Implement me (25 marks)\n",
    "    \n",
    "    delete_times = 0  ## the number of numbers should be deleted from the right of the list1\n",
    "    \n",
    "    point1 = len(list1)-1\n",
    "    point2 = len(list2)-1\n",
    "    \n",
    "    while point1 >=0 and point2 >= -1:  ## set poin2>=-1 to deal with the case where list2 is finished and the remaining list1 can all be deleted\n",
    "        if list1[point1] > 0:  ## list1 is positive\n",
    "            if point2 == -1 or list1[point1] != list2[point2]:  ## if list2 is out of boundary or not equal\n",
    "                return False\n",
    "            else:\n",
    "                point2 -= 1\n",
    "                point1 -= 1\n",
    "        else:  ## list1 is negative\n",
    "            delete_times -= list1[point1]  ## record the number of deleted numbers\n",
    "            point1 -= 1  ## skip the negative number\n",
    "            while delete_times > 0:  \n",
    "                point1 -= 1\n",
    "                delete_times -= 1\n",
    "                if point1 == -1 and point2 == -1 and delete_times == 0:  ## delete_times is cleared and positive numbers in list1 and list2 are compared and equal\n",
    "                    return True               \n",
    "                if point1 < 0:  ## out of list1's boundary\n",
    "                    return False\n",
    "                if list1[point1]< 0:  ## list1 is negative\n",
    "                    delete_times -= list1[point1]  ## delete_times increases\n",
    "                    point1 -= 1  ## skip the negative number\n",
    "    \n",
    "    ## if delete_times is cleared, and positive numbers in list1 and list2 are compared and equal, then True\n",
    "    return point1== -1 and point2 == -1 and delete_times == 0  "
   ]
  },
  {
   "cell_type": "code",
   "execution_count": 66,
   "metadata": {
    "scrolled": true
   },
   "outputs": [
    {
     "name": "stdout",
     "output_type": "stream",
     "text": [
      "True\n",
      "True\n",
      "True\n",
      "False\n",
      "False\n",
      "True\n",
      "False\n"
     ]
    }
   ],
   "source": [
    "# Test\n",
    "print(fun_31([], []))\n",
    "print(fun_31([2, 3, -1], [2]))\n",
    "print(fun_31([2, 3, 4, -1, 5, -2], [2]))\n",
    "print(fun_31([-1], []))\n",
    "print(fun_31([1, 2, 3, 4, -2, 5, 6, -1], [2, 5]))\n",
    "print(fun_31([1, -1, 1], [1]))\n",
    "print(fun_31([2, 3, -100], [2]))"
   ]
  },
  {
   "cell_type": "markdown",
   "metadata": {
    "collapsed": true
   },
   "source": [
    "<a id='4.1'></a>"
   ]
  },
  {
   "cell_type": "markdown",
   "metadata": {},
   "source": [
    "## Question ($\\star$, 10 marks)\n",
    "- Problem:\n",
    "    - follow up on exercise 3.6 in chapter 3 of lecture note\n",
    "    - as in exercise 3.6, if the target is not in the array, we return the index where we should insert the target to keep the array sorted\n",
    "    - however, unlike in exercise 3.6 where we return the index of any item in the array as long as the item equals the target, here we should return the index of the first item in the array that equals the target\n",
    "    - for example, if arr = [2, 3, 3, 4] and target = 3, we should return 1 (the index of the first 3 in arr) rather than 2 (the index of the second 3)\n",
    "    - see more examples in the testing cases\n",
    "    - find the solution with the complexity below\n",
    "- Complexity:\n",
    "    - $O(n)$ time\n",
    "    - $O(1)$ space\n",
    "- **Logic: # Implement me (5 marks)**\n",
    "\n",
    "Search from the left of the array.Return the fist index where the number is greater or equal to the target. If all the numbers in array is smaller than target, return the last index + 1.\n"
   ]
  },
  {
   "cell_type": "code",
   "execution_count": 76,
   "metadata": {},
   "outputs": [],
   "source": [
    "# Implementation\n",
    "def fun_41(arr, target):\n",
    "    \"\"\"\n",
    "    Find a target in a sortetd array (in ascending order)\n",
    "    \n",
    "    Parameters\n",
    "    ----------\n",
    "    arr : a list of integers\n",
    "    target : an integer\n",
    "    \n",
    "    Returns\n",
    "    ----------\n",
    "    The index of the first item in arr that equals the target, if the target is in the array\n",
    "    The index where the target should be inserted (so that the array is still sorted in ascending order), otherwise\n",
    "    \"\"\"\n",
    "    \n",
    "    # Implement me (5 marks)\n",
    "    \n",
    "    for i, num in enumerate(arr):\n",
    "        if num >= target:\n",
    "            return i\n",
    "    \n",
    "    return i+1\n",
    "        \n",
    "    \n",
    "    "
   ]
  },
  {
   "cell_type": "code",
   "execution_count": 77,
   "metadata": {
    "scrolled": true
   },
   "outputs": [
    {
     "name": "stdout",
     "output_type": "stream",
     "text": [
      "1\n",
      "0\n",
      "1\n",
      "1\n",
      "2\n",
      "0\n"
     ]
    }
   ],
   "source": [
    "# Test\n",
    "arr_1 = [2]\n",
    "arr_2 = [4]\n",
    "arr_3 = [2, 3, 4]\n",
    "arr_4 = [2, 3, 3, 4]\n",
    "arr_5 = [2, 2, 3, 3, 3, 4, 4]\n",
    "arr_6 = [3, 3]\n",
    "\n",
    "\n",
    "print(fun_41(arr_1, 3))\n",
    "print(fun_41(arr_2, 3))\n",
    "print(fun_41(arr_3, 3))\n",
    "print(fun_41(arr_4, 3))\n",
    "print(fun_41(arr_5, 3))\n",
    "print(fun_41(arr_6, 3))"
   ]
  },
  {
   "cell_type": "markdown",
   "metadata": {},
   "source": [
    "## Question ($\\star\\star$, 40 marks)\n",
    "- Problem: \n",
    "    - follow up on [Question 4.1](#4.1)\n",
    "    - find a solution with the complexity below\n",
    "- Complexity: \n",
    "    - $O(log(n))$ time\n",
    "    - $O(1)$ space\n",
    "- **Logic: # Implement me (5 marks)**\n",
    "Use binary search to determine where the target number should be inserted."
   ]
  },
  {
   "cell_type": "code",
   "execution_count": 78,
   "metadata": {},
   "outputs": [],
   "source": [
    "# Implementation\n",
    "def fun_42(arr, target):\n",
    "    \"\"\"\n",
    "    Find a target in a sortetd array (in ascending order)\n",
    "    \n",
    "    Parameters\n",
    "    ----------\n",
    "    arr : a list of integers\n",
    "    target : an integer\n",
    "    \n",
    "    Returns\n",
    "    ----------\n",
    "    The index of the first item in arr that equals the target, if the target is in the array\n",
    "    The index where the target should be inserted (so that the array is still sorted in ascending order), otherwise\n",
    "    \"\"\"\n",
    "    \n",
    "    # Implement me (35 marks)\n",
    "    start = 0\n",
    "    end = len(arr)-1\n",
    "    \n",
    "    while start + 1 < end:\n",
    "        mid = start + (end - start) // 2\n",
    "        if arr[mid] >= target:  ## if arr[mid] == target, keet it in the searching arrange and searching in the left part\n",
    "            end = mid\n",
    "        else:\n",
    "            arr[mid] < target\n",
    "            start = mid\n",
    "      \n",
    "    if arr[start] >= target:\n",
    "        return start\n",
    "    \n",
    "    if arr[end] < target:\n",
    "        return end + 1\n",
    "    \n",
    "    return end\n"
   ]
  },
  {
   "cell_type": "code",
   "execution_count": 73,
   "metadata": {
    "scrolled": false
   },
   "outputs": [
    {
     "name": "stdout",
     "output_type": "stream",
     "text": [
      "1\n",
      "0\n",
      "1\n",
      "1\n",
      "2\n",
      "0\n"
     ]
    }
   ],
   "source": [
    "# Test\n",
    "arr_1 = [2]\n",
    "arr_2 = [4]\n",
    "arr_3 = [2, 3, 4]\n",
    "arr_4 = [2, 3, 3, 4]\n",
    "arr_5 = [2, 2, 3, 3, 3, 4, 4]\n",
    "arr_6 = [3, 3]\n",
    "\n",
    "\n",
    "print(fun_42(arr_1, 3))\n",
    "print(fun_42(arr_2, 3))\n",
    "print(fun_42(arr_3, 3))\n",
    "print(fun_42(arr_4, 3))\n",
    "print(fun_42(arr_5, 3))\n",
    "print(fun_42(arr_6, 3))"
   ]
  },
  {
   "cell_type": "code",
   "execution_count": null,
   "metadata": {},
   "outputs": [],
   "source": []
  }
 ],
 "metadata": {
  "kernelspec": {
   "display_name": "Python 3",
   "language": "python",
   "name": "python3"
  },
  "language_info": {
   "codemirror_mode": {
    "name": "ipython",
    "version": 3
   },
   "file_extension": ".py",
   "mimetype": "text/x-python",
   "name": "python",
   "nbconvert_exporter": "python",
   "pygments_lexer": "ipython3",
   "version": "3.6.5"
  },
  "toc": {
   "base_numbering": 1,
   "nav_menu": {},
   "number_sections": true,
   "sideBar": true,
   "skip_h1_title": false,
   "title_cell": "Table of Contents",
   "title_sidebar": "Contents",
   "toc_cell": true,
   "toc_position": {},
   "toc_section_display": true,
   "toc_window_display": false
  }
 },
 "nbformat": 4,
 "nbformat_minor": 2
}
